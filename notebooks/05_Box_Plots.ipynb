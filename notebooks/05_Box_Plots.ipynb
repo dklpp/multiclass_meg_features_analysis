{
 "cells": [
  {
   "cell_type": "code",
   "execution_count": 1,
   "id": "3537ff99",
   "metadata": {},
   "outputs": [],
   "source": [
    "import pandas as pd \n",
    "import numpy as np\n",
    "import matplotlib.pyplot as plt\n",
    "\n",
    "from scipy.stats import kruskal\n",
    "from statsmodels.stats.multitest import fdrcorrection\n",
    "\n",
    "from sklearn.model_selection import cross_validate\n",
    "\n",
    "from sklearn import svm, datasets\n",
    "import sklearn.model_selection as model_selection\n",
    "from sklearn.metrics import accuracy_score\n",
    "from sklearn.metrics import f1_score\n",
    "from sklearn.preprocessing import LabelEncoder, StandardScaler\n",
    "from sklearn.model_selection import train_test_split, StratifiedKFold, RepeatedStratifiedKFold\n",
    "from sklearn.model_selection import GridSearchCV \n",
    "from sklearn.svm import SVC \n",
    "import sklearn\n",
    "\n",
    "from sklearn.discriminant_analysis import LinearDiscriminantAnalysis\n",
    "\n",
    "from sklearn.model_selection import cross_val_score\n",
    "\n",
    "from scipy.stats import zscore\n",
    "\n",
    "from sklearn.pipeline import make_pipeline\n",
    "\n",
    "import seaborn as sns\n",
    "\n",
    "import xgboost as xgb\n",
    "from xgboost import XGBClassifier"
   ]
  },
  {
   "cell_type": "code",
   "execution_count": 2,
   "id": "b0674dbe",
   "metadata": {},
   "outputs": [],
   "source": [
    "def select_features_kruskal_Wallis_v19(df, num_feat=6670, feat='plv', sel_feat=20):\n",
    "    \"\"\"Takes a df with many features. Performs Kruskal-Wallis Test. Performs FDR test.\n",
    "    feat: ['plv', 'aec', 'foof', 'cc', 'pw', 'atm'] _eign _betw \n",
    "    \"\"\"\n",
    "    # p values for Kruskal-Wallis test\n",
    "    classes = list(np.unique(df['class'].values))\n",
    "    p_vals = {f'{feat}_{i}': kruskal(*[df[df['class'] == cls].iloc[:, i] \n",
    "                                for cls in classes]).pvalue for i in range(num_feat)}\n",
    "    pvals = np.array(list(p_vals.values())) # num_feat p-values\n",
    "    pvals_corrected = fdrcorrection(pvals)[1]\n",
    "    pvals_fdr = {f'{feat}_{i}': pvals_corrected[i] for i in range(0, num_feat)}\n",
    "\n",
    "    df_pvals_fdr = pd.DataFrame(data=np.array(list(pvals_fdr.values())).reshape((1,-1)), \n",
    "                                columns=df.columns[:-2])\n",
    "    top_features_df = df_pvals_fdr.T.sort_values(by=0).T.iloc[:, :sel_feat]\n",
    "    \n",
    "    return (df[list(top_features_df.columns) + ['class']], df_pvals_fdr)"
   ]
  },
  {
   "cell_type": "code",
   "execution_count": 3,
   "id": "101678d0",
   "metadata": {
    "scrolled": true
   },
   "outputs": [
    {
     "name": "stdout",
     "output_type": "stream",
     "text": [
      "0. Selecting features for df_plv_flat.csv\n",
      "\n",
      "\n",
      "1. Selecting features for df_aec_flat.csv\n",
      "\n",
      "\n",
      "2. Selecting features for df_atm.csv\n",
      "\n",
      "\n",
      "3. Selecting features for df_cc.csv\n",
      "\n",
      "\n"
     ]
    }
   ],
   "source": [
    "edge_datasets = ['df_plv_flat.csv', 'df_aec_flat.csv', 'df_atm.csv', 'df_cc.csv']\n",
    "sel_features_40 = dict()\n",
    "pvals_40 = dict()\n",
    "\n",
    "for i, ds in enumerate(edge_datasets):\n",
    "    print(f'{i}. Selecting features for {ds}')\n",
    "    df = pd.read_csv(\"../data/flatten_datasets/\" + ds)\n",
    "    if ds == 'df_plv_flat.csv':\n",
    "        # rename columns\n",
    "        df.columns = [f'PLV_{i}-{j}' for i in range(116) for j in range(i+1, 116)] + ['ID', 'class']\n",
    "        \n",
    "    sel_features_40[ds], pvals_40[ds] = select_features_kruskal_Wallis_v19(df, feat=ds[3:6], num_feat=len(df.columns)-2,\n",
    "                                           sel_feat=40)\n",
    "    #print('Features (asc. to p-vals):\\n')\n",
    "    #print(list(sel_features_40[ds].columns))\n",
    "    print('\\n')"
   ]
  },
  {
   "cell_type": "code",
   "execution_count": 5,
   "id": "c97274e3",
   "metadata": {},
   "outputs": [
    {
     "name": "stderr",
     "output_type": "stream",
     "text": [
      "/var/folders/jd/3zpnmlfd2232jh4tlx7lspb40000gn/T/ipykernel_55533/732163257.py:12: SettingWithCopyWarning: \n",
      "A value is trying to be set on a copy of a slice from a DataFrame.\n",
      "Try using .loc[row_indexer,col_indexer] = value instead\n",
      "\n",
      "See the caveats in the documentation: https://pandas.pydata.org/pandas-docs/stable/user_guide/indexing.html#returning-a-view-versus-a-copy\n",
      "  df_plv['class'] = df_plv['class'].replace('PD_off', 'PD')\n",
      "/var/folders/jd/3zpnmlfd2232jh4tlx7lspb40000gn/T/ipykernel_55533/732163257.py:15: FutureWarning: \n",
      "\n",
      "Passing `palette` without assigning `hue` is deprecated and will be removed in v0.14.0. Assign the `y` variable to `hue` and set `legend=False` for the same effect.\n",
      "\n",
      "  sns.boxplot(\n"
     ]
    },
    {
     "data": {
      "image/png": "[encoded data removed]",
      "text/plain": [
       "<Figure size 700x600 with 1 Axes>"
      ]
     },
     "metadata": {},
     "output_type": "display_data"
    }
   ],
   "source": [
    "import seaborn as sns\n",
    "import matplotlib.pyplot as plt\n",
    "\n",
    "sns.set_theme(style=\"ticks\")\n",
    "\n",
    "# Initialize the figure with a logarithmic x axis\n",
    "f, ax = plt.subplots(figsize=(7, 6))\n",
    "ax.set_xscale(\"log\")\n",
    "\n",
    "df_plv = sel_features_40['df_plv_flat.csv'][['PLV_45-54', 'class']]\n",
    "\n",
    "df_plv['class'] = df_plv['class'].replace('PD_off', 'PD')\n",
    "\n",
    "# Plot the orbital period with horizontal boxes\n",
    "sns.boxplot(\n",
    "    df_plv, x=\"PLV_45-54\", y=\"class\",# hue=\"method\",\n",
    "    whis=[0, 100], width=.6, palette=\"vlag\"\n",
    ").set(xlabel='Phase Locking Value')\n",
    "\n",
    "sns.stripplot(df_plv, x='PLV_45-54', y='class', size=4, color='.3')\n",
    "\n",
    "plt.savefig(\"../figures/boxplot_observations_600.png\", dpi=600)"
   ]
  },
  {
   "cell_type": "code",
   "execution_count": null,
   "id": "0f85f5dd",
   "metadata": {},
   "outputs": [],
   "source": []
  }
 ],
 "metadata": {
  "kernelspec": {
   "display_name": "ml",
   "language": "python",
   "name": "ml"
  },
  "language_info": {
   "codemirror_mode": {
    "name": "ipython",
    "version": 3
   },
   "file_extension": ".py",
   "mimetype": "text/x-python",
   "name": "python",
   "nbconvert_exporter": "python",
   "pygments_lexer": "ipython3",
   "version": "3.9.7"
  }
 },
 "nbformat": 4,
 "nbformat_minor": 5
}
