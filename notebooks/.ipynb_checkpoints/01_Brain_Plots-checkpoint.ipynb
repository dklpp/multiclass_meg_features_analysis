{
 "cells": [
  {
   "cell_type": "code",
   "execution_count": 1,
   "id": "94123819",
   "metadata": {
    "scrolled": true
   },
   "outputs": [],
   "source": [
    "import pandas as pd\n",
    "import matplotlib.pyplot as plt\n",
    "import scipy.io\n",
    "import mne\n",
    "import numpy as np\n",
    "import mat73\n",
    "from mne_connectivity.viz import plot_connectivity_circle\n",
    "\n",
    "import scipy.io\n",
    "import numpy as np\n",
    "import h5py as h5\n",
    "\n",
    "import seaborn as sns\n",
    "\n",
    "import mat73 \n",
    "\n",
    "from scipy.signal import hilbert\n",
    "import pandas as pd\n",
    "from scipy.stats import zscore\n",
    "import pandas as pd\n",
    "import matplotlib.pyplot as plt\n",
    "from scipy import signal\n",
    "from fooof.plts.spectra import plot_spectrum\n",
    "from fooof import FOOOF\n",
    "from fooof.sim.gen import gen_aperiodic\n",
    "\n",
    "import pickle # For reading dictionaries from .pkl\n",
    "\n",
    "from scipy.stats import pearsonr\n",
    "\n",
    "import networkx as nx\n",
    "\n",
    "from scipy.stats import kruskal\n",
    "from statsmodels.stats.multitest import fdrcorrection"
   ]
  },
  {
   "cell_type": "code",
   "execution_count": 2,
   "id": "dcfea93e",
   "metadata": {},
   "outputs": [],
   "source": [
    "cd"
   ]
  },
  {
   "cell_type": "code",
   "execution_count": 3,
   "id": "b97e5646",
   "metadata": {},
   "outputs": [],
   "source": [
    "cd Documents/Projects/PROJECT_main/multiclass_meg_features_analysis/"
   ]
  },
  {
   "cell_type": "code",
   "execution_count": 4,
   "id": "7a545fc1",
   "metadata": {},
   "outputs": [],
   "source": [
    "from libs import neurofeat"
   ]
  },
  {
   "cell_type": "code",
   "execution_count": 5,
   "id": "784fdefc",
   "metadata": {},
   "outputs": [],
   "source": [
    "# List of ROIs from the AAL atlas\n",
    "ROI_AAL_list = [ 'Rectus_L','Olfactory_L','Frontal_Sup_Orb_L','Frontal_Med_Orb_L','Frontal_Mid_Orb_L',\n",
    "                'Frontal_Inf_Orb_L','Frontal_Sup_L','Frontal_Mid_L','Frontal_Inf_Oper_L','Frontal_Inf_Tri_L',\n",
    "                'Frontal_Sup_Medial_L','Supp_Motor_Area_L','Paracentral_Lobule_L','Precentral_L','Rolandic_Oper_L',\n",
    "                'Postcentral_L','Parietal_Sup_L','Parietal_Inf_L','SupraMarginal_L','Angular_L','Precuneus_L',\n",
    "                'Occipital_Sup_L','Occipital_Mid_L','Occipital_Inf_L','Calcarine_L','Cuneus_L','Lingual_L',\n",
    "                'Fusiform_L','Heschl_L','Temporal_Sup_L','Temporal_Mid_L','Temporal_Inf_L','Temporal_Pole_Sup_L',\n",
    "                'Temporal_Pole_Mid_L','ParaHippocampal_L','Cingulum_Ant_L','Cingulum_Mid_L','Cingulum_Post_L',\n",
    "                'Insula_L','Rectus_R','Olfactory_R','Frontal_Sup_Orb_R','Frontal_Med_Orb_R','Frontal_Mid_Orb_R',\n",
    "                'Frontal_Inf_Orb_R','Frontal_Sup_R','Frontal_Mid_R','Frontal_Inf_Oper_R','Frontal_Inf_Tri_R',\n",
    "                'Frontal_Sup_Medial_R','Supp_Motor_Area_R','Paracentral_Lobule_R','Precentral_R','Rolandic_Oper_R',\n",
    "                'Postcentral_R','Parietal_Sup_R','Parietal_Inf_R', 'SupraMarginal_R','Angular_R','Precuneus_R',\n",
    "                'Occipital_Sup_R','Occipital_Mid_R','Occipital_Inf_R','Calcarine_R','Cuneus_R','Lingual_R',\n",
    "                'Fusiform_R','Heschl_R','Temporal_Sup_R','Temporal_Mid_R','Temporal_Inf_R','Temporal_Pole_Sup_R',\n",
    "                'Temporal_Pole_Mid_R','ParaHippocampal_R','Cingulum_Ant_R','Cingulum_Mid_R','Cingulum_Post_R',\n",
    "                'Insula_R','Hippocampus_L','Hippocampus_R','Amygdala_L','Amygdala_R','Caudate_L','Caudate_R',\n",
    "                'Putamen_L','Putamen_R','Pallidum_L','Pallidum_R','Thalamus_L','Thalamus_R','Cerebelum_Crus1_L',\n",
    "                'Cerebelum_Crus1_R','Cerebelum_Crus2_L','Cerebelum_Crus2_R','Cerebelum_3_L','Cerebelum_3_R',\n",
    "                'Cerebelum_4_5_L','Cerebelum_4_5_R','Cerebelum_6_L','Cerebelum_6_R','Cerebelum_7b_L','Cerebelum_7b_R',\n",
    "                'Cerebelum_8_L','Cerebelum_8_R','Cerebelum_9_L','Cerebelum_9_R','Cerebelum_10_L','Cerebelum_10_R',\n",
    "                'Vermis_1_2','Vermis_3','Vermis_4_5','Vermis_6','Vermis_7','Vermis_8','Vermis_9','Vermis_10']\n",
    "ROIs = '%0d'.join ( ROI_AAL_list )\n",
    "\n",
    "# For each ROI, it attributes one lobe\n",
    "Region_AAL = [ 'LF','LF','LF','LF','LF','LF','LF','LF','LF','LF','LF','LF','LF','LF','LF','LP','LP','LP','LP','LP',\n",
    "              'LP','LO','LO','LO','LO','LO','LO','LO','LT','LT','LT','LT','LT','LT','LT','LF','LP','LP','LT','RF',\n",
    "              'RF','RF','RF','RF','RF','RF','RF','RF','RF','RF','RF','RF','RF','RF','RP','RP','RP','RP','RP','RP',\n",
    "              'RO','RO','RO','RO','RO','RO','RO','RT','RT','RT','RT','RT','RT','RT','RF','RP','RP','RT','LT','RT',\n",
    "              'NB','NB','NB','NB','NB','NB','NB','NB','NB','NB','Cer','Cer','Cer','Cer','Cer','Cer','Cer','Cer',\n",
    "              'Cer','Cer','Cer','Cer','Cer','Cer','Cer','Cer','Cer','Cer','Cer','Cer','Cer','Cer','Cer','Cer',\n",
    "              'Cer','Cer' ] # partition provided by PS"
   ]
  },
  {
   "cell_type": "code",
   "execution_count": 6,
   "id": "e61b462c",
   "metadata": {},
   "outputs": [],
   "source": [
    "from nilearn import datasets\n",
    "\n",
    "aal = datasets.fetch_atlas_aal()"
   ]
  },
  {
   "cell_type": "code",
   "execution_count": 7,
   "id": "ff74d483",
   "metadata": {},
   "outputs": [],
   "source": [
    "len(aal[\"labels\"])"
   ]
  },
  {
   "cell_type": "code",
   "execution_count": 8,
   "id": "81cbf952",
   "metadata": {},
   "outputs": [],
   "source": [
    "set(ROI_AAL_list) == set(aal[\"labels\"])"
   ]
  },
  {
   "cell_type": "code",
   "execution_count": 9,
   "id": "266b9eab",
   "metadata": {},
   "outputs": [],
   "source": [
    "indices_aal = [ROI_AAL_list.index(item) for item in aal[\"labels\"]]"
   ]
  },
  {
   "cell_type": "code",
   "execution_count": 10,
   "id": "d0055f35",
   "metadata": {},
   "outputs": [],
   "source": [
    "from nilearn import plotting\n",
    "\n",
    "coordinates = plotting.find_parcellation_cut_coords(labels_img=aal[\"maps\"])"
   ]
  },
  {
   "cell_type": "code",
   "execution_count": 11,
   "id": "8757c5a4",
   "metadata": {},
   "outputs": [],
   "source": [
    "len(coordinates) # coordinates of AAL atlas regions"
   ]
  },
  {
   "cell_type": "code",
   "execution_count": 12,
   "id": "20cbbd0d",
   "metadata": {},
   "outputs": [],
   "source": [
    "# Load average feature importances estimated from XGB\n",
    "avg_imp_aec_plv = pd.read_csv(\"data/average_importance_xgb/avg_imp_aec_plv.csv\", index_col=0)\n",
    "avg_imp_aec_plv_atm = pd.read_csv(\"data/average_importance_xgb/avg_imp_aec_plv_atm.csv\", index_col=0)\n",
    "\n",
    "ver_8apr_overlap = pd.read_csv(\"data/average_importance_xgb/overlap_feats_atm-aec-plv.csv\", index_col=0)"
   ]
  },
  {
   "cell_type": "code",
   "execution_count": 13,
   "id": "c799cd16",
   "metadata": {},
   "outputs": [],
   "source": [
    "avg_imp_aec_plv.shape, avg_imp_aec_plv_atm.shape, ver_8apr_overlap.shape"
   ]
  },
  {
   "cell_type": "code",
   "execution_count": 14,
   "id": "8ed4cece",
   "metadata": {},
   "outputs": [],
   "source": [
    "avg_imp_aec_plv_atm.index"
   ]
  },
  {
   "cell_type": "code",
   "execution_count": 15,
   "id": "84d5b00a",
   "metadata": {},
   "outputs": [],
   "source": [
    "ver_8apr_overlap.index"
   ]
  },
  {
   "cell_type": "code",
   "execution_count": 16,
   "id": "eff3a09f",
   "metadata": {},
   "outputs": [],
   "source": [
    "ver_8apr_overlap.index = [1182, 2563, 645, 2561, 5254, 2565, 5175, 4554, 1112]"
   ]
  },
  {
   "cell_type": "code",
   "execution_count": 17,
   "id": "193b25f6",
   "metadata": {},
   "outputs": [],
   "source": [
    "# Find row and column indeces for the most important edges (2 regions)\n",
    "\n",
    "matr_zer = np.zeros((116, 116))\n",
    "\n",
    "for index, value in ver_8apr_overlap.iterrows():\n",
    "    row, col = divmod(index, 100)\n",
    "    print(f'row: {row}, id: {col}')\n",
    "    matr_zer[row, col] = value.values[0]"
   ]
  },
  {
   "cell_type": "code",
   "execution_count": 18,
   "id": "9f3a7239",
   "metadata": {},
   "outputs": [],
   "source": [
    "matr_zer.shape"
   ]
  },
  {
   "cell_type": "code",
   "execution_count": 19,
   "id": "606b4a73",
   "metadata": {
    "scrolled": true
   },
   "outputs": [],
   "source": [
    "matr_zer.nonzero()"
   ]
  },
  {
   "cell_type": "code",
   "execution_count": 20,
   "id": "be98ee41",
   "metadata": {},
   "outputs": [],
   "source": [
    "matr_zer"
   ]
  },
  {
   "cell_type": "code",
   "execution_count": 21,
   "id": "3f0559e5",
   "metadata": {},
   "outputs": [],
   "source": [
    "# Save a sparse matrix to .mat file \n",
    "\n",
    "from scipy.io import savemat\n",
    "\n",
    "savemat(file_name=\"sparse_matrix.mat\", mdict={\"data\": matr_zer})"
   ]
  },
  {
   "cell_type": "code",
   "execution_count": 22,
   "id": "2d7d49be",
   "metadata": {},
   "outputs": [],
   "source": [
    "# regions of AAL from library and our - are in different order so we should reorder them\n",
    "matr_zer = matr_zer[indices_aal, :][:, indices_aal]"
   ]
  },
  {
   "cell_type": "code",
   "execution_count": 23,
   "id": "8f1410f6",
   "metadata": {},
   "outputs": [],
   "source": [
    "matr_zer.nonzero()"
   ]
  },
  {
   "cell_type": "code",
   "execution_count": 24,
   "id": "a87fc910",
   "metadata": {},
   "outputs": [],
   "source": [
    "np.unique(np.array(np.nonzero(matr_zer)).flatten())"
   ]
  },
  {
   "cell_type": "code",
   "execution_count": 25,
   "id": "f6d06e5b",
   "metadata": {},
   "outputs": [],
   "source": [
    "# find coordinates of specified regions\n",
    "coordinates[[ 1,  2,  3, 18, 33, 43, 44, 47, 51, 57, 68, 69, 70], :]"
   ]
  },
  {
   "cell_type": "code",
   "execution_count": 26,
   "id": "5d208d4e",
   "metadata": {},
   "outputs": [],
   "source": [
    "symmetric_matrix = matr_zer + matr_zer.T # make a symmetric matrix to have undirected links"
   ]
  },
  {
   "cell_type": "code",
   "execution_count": 27,
   "id": "ffa85224",
   "metadata": {},
   "outputs": [],
   "source": [
    "ver_8apr_overlap"
   ]
  },
  {
   "cell_type": "code",
   "execution_count": 28,
   "id": "58a7591e",
   "metadata": {},
   "outputs": [],
   "source": [
    "np.where((symmetric_matrix > 0.027) & (symmetric_matrix < 0.0292))"
   ]
  },
  {
   "cell_type": "code",
   "execution_count": 29,
   "id": "90bfa03d",
   "metadata": {
    "scrolled": false
   },
   "outputs": [],
   "source": [
    "symmetric_matrix[[18,70],:][:,[18,70]]"
   ]
  },
  {
   "cell_type": "code",
   "execution_count": 30,
   "id": "4fd4ee86",
   "metadata": {},
   "outputs": [],
   "source": [
    "matr_zer.nonzero()"
   ]
  },
  {
   "cell_type": "code",
   "execution_count": 31,
   "id": "c1dc7770",
   "metadata": {},
   "outputs": [],
   "source": [
    "idx_nonzer = [1,  2,  3, 18, 33, 43, 44, 47, 51, 57, 68, 69, 70]\n",
    " \n",
    "plotting.plot_connectome(\n",
    "    #matr_zer[indices_aal, :][:, indices_aal],\n",
    "    #symmetric_matrix,\n",
    "    symmetric_matrix[idx_nonzer,:][:,idx_nonzer],\n",
    "    coordinates[idx_nonzer, :],\n",
    "    #edge_threshold=\"20%\", # 0.9 or \"15%\"\n",
    "    #title=\"Avg importance of overlapping features\",\n",
    "    title=None,\n",
    "    node_size=15,\n",
    "    black_bg=False,\n",
    "    alpha=0.5,\n",
    "    output_file='figures/brain_plots/avg_importance.png',\n",
    "    node_color='black'\n",
    "    \n",
    ");"
   ]
  },
  {
   "cell_type": "code",
   "execution_count": 32,
   "id": "6aedb2d9",
   "metadata": {
    "scrolled": false
   },
   "outputs": [],
   "source": [
    "from IPython.display import Image\n",
    "Image(\"figures/avg_importance.png\")"
   ]
  },
  {
   "cell_type": "code",
   "execution_count": 33,
   "id": "e1909549",
   "metadata": {},
   "outputs": [],
   "source": [
    "sns.heatmap(data=symmetric_matrix[idx_nonzer, :][:, idx_nonzer], vmin=0.0, vmax=0.12,\n",
    "           xticklabels=idx_nonzer, yticklabels=idx_nonzer);"
   ]
  },
  {
   "cell_type": "markdown",
   "id": "46176b1e",
   "metadata": {},
   "source": [
    "### Little Brains for AEC, ATM, PLV feature important edges (top 20)"
   ]
  },
  {
   "cell_type": "code",
   "execution_count": 34,
   "id": "a2df5d95",
   "metadata": {},
   "outputs": [],
   "source": [
    "xgb_imp_aec = pd.read_csv(\"data/feature_importance/aec_xgb_importance.csv\", index_col=0)\n",
    "xgb_imp_atm = pd.read_csv(\"data/feature_importance/atm_xgb_importance.csv\", index_col=0)\n",
    "xgb_imp_plv = pd.read_csv(\"data/feature_importance/plv_xgb_importance.csv\", index_col=0)"
   ]
  },
  {
   "cell_type": "code",
   "execution_count": 35,
   "id": "e5586929",
   "metadata": {},
   "outputs": [],
   "source": [
    "tmp = [num.split('-') for num in list(xgb_imp_aec.index)]\n",
    "xgb_imp_aec.index = [''.join([str(int(part) - 1) for part in num]) for num in tmp]\n",
    "\n",
    "tmp = [num.split('-') for num in list(xgb_imp_atm.index)]\n",
    "xgb_imp_atm.index = [''.join([str(int(part) - 1) for part in num]) for num in tmp]\n",
    "\n",
    "tmp = [num.split('-') for num in list(xgb_imp_plv.index)]\n",
    "xgb_imp_plv.index = [''.join([str(int(part) - 1) for part in num]) for num in tmp]"
   ]
  },
  {
   "cell_type": "code",
   "execution_count": 36,
   "id": "94e9ae94",
   "metadata": {},
   "outputs": [],
   "source": [
    "for k in [xgb_imp_aec, xgb_imp_atm, xgb_imp_plv]:\n",
    "    matr_zer = np.zeros((116, 116))\n",
    "\n",
    "    for index, value in k.iterrows():\n",
    "        if len(index) <= 4:\n",
    "            row, col = divmod(int(index), 100)\n",
    "        elif len(index) == 5:\n",
    "            row, col = divmod(int(index), 1000)\n",
    "        #print(f'row: {row}, id: {col}')\n",
    "        matr_zer[row, col] = value.values[0]\n",
    "        \n",
    "    # regions of AAL from library and our - are in different order so we should reorder them\n",
    "    matr_zer = matr_zer[indices_aal, :][:, indices_aal]\n",
    "        \n",
    "    idx_coords = np.unique(np.array(np.nonzero(matr_zer)).flatten())\n",
    "    symmetric_matrix = matr_zer + matr_zer.T # make a symmetric matrix to have undirected links\n",
    "    \n",
    "    if k is xgb_imp_aec:\n",
    "        file_name = 'xgb_imp_aec'\n",
    "    elif k is xgb_imp_atm:\n",
    "        file_name = 'xgb_imp_atm'\n",
    "    elif k is xgb_imp_plv:\n",
    "        file_name = 'xgb_imp_plv'\n",
    "    plotting.plot_connectome(\n",
    "        symmetric_matrix[idx_coords,:][:,idx_coords],\n",
    "        coordinates[idx_coords, :],\n",
    "        title=None,\n",
    "        node_size=15,\n",
    "        black_bg=False,\n",
    "        alpha=0.5,\n",
    "        output_file=f'figures/brain_plots/{file_name}.png',\n",
    "        node_color='black'\n",
    "    );"
   ]
  },
  {
   "cell_type": "code",
   "execution_count": null,
   "id": "26c5eff4",
   "metadata": {},
   "outputs": [],
   "source": []
  }
 ],
 "metadata": {
  "kernelspec": {
   "display_name": "ml",
   "language": "python",
   "name": "ml"
  },
  "language_info": {
   "codemirror_mode": {
    "name": "ipython",
    "version": 3
   },
   "file_extension": ".py",
   "mimetype": "text/x-python",
   "name": "python",
   "nbconvert_exporter": "python",
   "pygments_lexer": "ipython3",
   "version": "3.9.7"
  }
 },
 "nbformat": 4,
 "nbformat_minor": 5
}
