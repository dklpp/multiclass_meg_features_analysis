{
 "cells": [
  {
   "cell_type": "code",
   "execution_count": 7,
   "id": "a6098b2c",
   "metadata": {},
   "outputs": [],
   "source": [
    "import pandas as pd \n",
    "import numpy as np\n",
    "import matplotlib.pyplot as plt\n",
    "\n",
    "from scipy.stats import kruskal\n",
    "from statsmodels.stats.multitest import fdrcorrection\n",
    "\n",
    "from sklearn import svm, datasets\n",
    "import sklearn.model_selection as model_selection\n",
    "from sklearn.metrics import accuracy_score\n",
    "from sklearn.metrics import f1_score\n",
    "from sklearn.preprocessing import LabelEncoder, StandardScaler\n",
    "from sklearn.model_selection import train_test_split, StratifiedKFold, RepeatedStratifiedKFold\n",
    "from sklearn.model_selection import GridSearchCV \n",
    "from sklearn.svm import SVC \n",
    "import sklearn\n",
    "\n",
    "from sklearn.discriminant_analysis import LinearDiscriminantAnalysis\n",
    "\n",
    "from sklearn.model_selection import cross_val_score\n",
    "\n",
    "from scipy.stats import zscore\n",
    "\n",
    "from sklearn.pipeline import make_pipeline\n",
    "\n",
    "import seaborn as sns\n",
    "\n",
    "import xgboost as xgb\n",
    "from xgboost import XGBClassifier\n",
    "\n",
    "import numpy as np\n",
    "from sklearn.metrics import confusion_matrix"
   ]
  },
  {
   "cell_type": "markdown",
   "id": "abd4c2d4",
   "metadata": {},
   "source": [
    "### 0. Perform Kruskal-Wallis to sort features by significance"
   ]
  },
  {
   "cell_type": "code",
   "execution_count": 8,
   "id": "16b3773a",
   "metadata": {},
   "outputs": [],
   "source": [
    "def select_features_kruskal_Wallis(df, num_feat=6670, feat='plv', sel_feat=20):\n",
    "    \"\"\"Takes a df with many features. Performs Kruskal-Wallis Test. Performs FDR test.\n",
    "    feat: ['plv', 'aec', 'foof', 'cc', 'pw', 'atm'] _eign _betw \n",
    "    \"\"\"\n",
    "    # p values for Kruskal-Wallis test\n",
    "    classes = list(np.unique(df['class'].values)) # list of classes \n",
    "    p_vals = {f'{feat}_{i}': kruskal(*[df[df['class'] == cls].iloc[:, i] \n",
    "                                for cls in classes]).pvalue for i in range(num_feat)}\n",
    "    pvals = np.array(list(p_vals.values())) # num_feat p-values\n",
    "\n",
    "    # FDR correction\n",
    "    pvals_corrected = fdrcorrection(pvals)[1]\n",
    "    pvals_fdr = {f'{feat}_{i}': pvals_corrected[i] for i in range(0, num_feat)}\n",
    "    top_features = [x[0] for x in sorted(pvals_fdr.items(), key=lambda x:x[1])[:sel_feat]]\n",
    "    \n",
    "    # Rename columns \n",
    "    cols = [f'{feat}_{i}' for i in range(0, num_feat)]\n",
    "    cols = cols + ['ID', 'class']\n",
    "    df.columns = cols\n",
    "    \n",
    "    df = df[top_features + ['class']]\n",
    "    \n",
    "    return df"
   ]
  },
  {
   "cell_type": "code",
   "execution_count": 9,
   "id": "c9e334fd",
   "metadata": {},
   "outputs": [
    {
     "name": "stdout",
     "output_type": "stream",
     "text": [
      "Selecting features for df_plv_flat.csv\n"
     ]
    }
   ],
   "source": [
    "reduced_datasets = ['df_plv_flat.csv']#, 'df_aec_flat.csv', 'df_atm.csv', 'df_cc.csv']\n",
    "sel_features_40 = dict()\n",
    "\n",
    "for ds in reduced_datasets:\n",
    "    print(f'Selecting features for {ds}')\n",
    "    df = pd.read_csv(\"../data/flatten_datasets/\" + ds)\n",
    "        \n",
    "    sel_features_40[ds] = select_features_kruskal_Wallis(df, feat=ds[3:6], num_feat=len(df.columns)-2,\n",
    "                                           sel_feat=40)"
   ]
  },
  {
   "cell_type": "markdown",
   "id": "f36c3a55",
   "metadata": {},
   "source": [
    "### 1. Perform ML algorithms with Repetitive K-fold to evaluate average Confusion Matrices"
   ]
  },
  {
   "cell_type": "code",
   "execution_count": 10,
   "id": "42adb028",
   "metadata": {},
   "outputs": [],
   "source": [
    "param_grid_lda = {'solver': ['svd', 'lsqr', 'eigen']} \n",
    "\n",
    "param_grid_svm = {'C': [0.1,1, 10, 100], \n",
    "              'gamma': [1,0.1,0.01,0.001],\n",
    "               'kernel': ['rbf', 'poly']}\n",
    "\n",
    "def eval_num_features_lda(df: pd.DataFrame, num_feat: int, metric_optim: str): #-> Tuple[dict, List[np.ndarray]]:\n",
    "    \"\"\"Without feature scaling here.\n",
    "    metric_optim : ['balanced_accuracy', 'accuracy']\n",
    "    \"\"\"\n",
    "    \n",
    "    X = df.drop('class', axis=1)\n",
    "    X = X.iloc[:, :num_feat] # select only (num_feat) top features\n",
    "    le = LabelEncoder()\n",
    "    y = le.fit_transform(df['class'])\n",
    "    \n",
    "    X_train, X_test, y_train, y_test = train_test_split(X, y, test_size = 0.40, shuffle=True)\n",
    "    \n",
    "    cv_grid_search = RepeatedStratifiedKFold(n_splits=10, n_repeats=10, random_state=43) # for GridSearch CV\n",
    "    grid_lda = GridSearchCV(LinearDiscriminantAnalysis(), param_grid_lda, \n",
    "                            scoring=metric_optim, cv=cv_grid_search) \n",
    "    \n",
    "    grid_lda.fit(X_train, y_train)\n",
    "    \n",
    "    clf_lda = grid_lda.best_estimator_\n",
    "    \n",
    "    all_bal_accs, all_accs, all_f1w, all_f1m = list(), list(), list(), list()\n",
    "    cv_eval = RepeatedStratifiedKFold(n_splits=10, n_repeats=10, random_state=17)  # for evaluative CV\n",
    "    metrics = dict()\n",
    "    confusion_matrices = []  # Store confusion matrices\n",
    "    \n",
    "    scoring_metrics = [metric_optim]#, 'accuracy', 'f1_weighted', 'f1_macro']\n",
    "    scores_balacc = list()\n",
    "    for metric in scoring_metrics:\n",
    "        scores_lda = cross_val_score(clf_lda, X_test, y_test, cv=cv_eval, scoring=metric)\n",
    "        metrics['LDA_' + metric] = scores_lda.mean()\n",
    "        if metric == metric_optim:\n",
    "            scores_balacc = scores_lda\n",
    "        \n",
    "        # Collect confusion matrices during each fold\n",
    "        fold_confusion_matrices = []\n",
    "        for train_index, test_index in cv_eval.split(X_test, y_test):\n",
    "            X_train_fold, X_test_fold = X.iloc[train_index], X.iloc[test_index]\n",
    "            y_train_fold, y_test_fold = y[train_index], y[test_index]\n",
    "            \n",
    "            clf_lda.fit(X_train_fold, y_train_fold)\n",
    "            y_pred = clf_lda.predict(X_test_fold)\n",
    "            fold_confusion_matrices.append(confusion_matrix(y_test_fold, y_pred))\n",
    "        \n",
    "        confusion_matrices.append(fold_confusion_matrices)\n",
    "\n",
    "    return metrics, scores_balacc, confusion_matrices, le\n",
    "\n",
    "\n",
    "def eval_num_features_svc(df: pd.DataFrame, num_feat: int, metric_optim: str) -> dict:\n",
    "    \"\"\"Without feature scaling here.\n",
    "    metric_optim : accuracy metric to be optimized \n",
    "    \"\"\"\n",
    "    \n",
    "    X = df.drop('class', axis=1)\n",
    "    X = X.iloc[:, :num_feat] # select only (num_feat) top features\n",
    "    le = LabelEncoder()\n",
    "    y = le.fit_transform(df['class'])\n",
    "    \n",
    "    X_train, X_test, y_train, y_test = train_test_split(X, y, test_size = 0.40, shuffle=True)\n",
    "    \n",
    "    cv_grid_search = RepeatedStratifiedKFold(n_splits=10, n_repeats=10, random_state=43) # for GridSearch CV\n",
    "    grid_svm = GridSearchCV(SVC(random_state=102), param_grid_svm, \n",
    "                            scoring=metric_optim, cv=cv_grid_search, \n",
    "                           refit=True, verbose=0)\n",
    "    grid_svm.fit(X_train, y_train)\n",
    "    \n",
    "    clf_svm = grid_svm.best_estimator_\n",
    "    \n",
    "    all_bal_accs, all_accs, all_f1w, all_f1m = list(), list(), list(), list()\n",
    "    cv_eval = RepeatedStratifiedKFold(n_splits=10, n_repeats=10, random_state=17)  # for evaluative CV\n",
    "    metrics = dict()\n",
    "    confusion_matrices = []\n",
    "    \n",
    "    scoring_metrics = [metric_optim]# ', 'accuracy', 'f1_weighted', 'f1_macro']\n",
    "    scores_balacc = list()\n",
    "    for metric in scoring_metrics:\n",
    "        scores_svm = cross_val_score(clf_svm, X_test, y_test, cv=cv_eval, scoring=metric)\n",
    "        metrics['SVM_' + metric] = scores_svm.mean()\n",
    "        \n",
    "        if metric == metric_optim:\n",
    "            scores_balacc = scores_svm\n",
    "            \n",
    "        # Collect confusion matrices during each fold\n",
    "        fold_confusion_matrices = []\n",
    "        for train_index, test_index in cv_eval.split(X_test, y_test):\n",
    "            X_train_fold, X_test_fold = X.iloc[train_index], X.iloc[test_index]\n",
    "            y_train_fold, y_test_fold = y[train_index], y[test_index]\n",
    "            \n",
    "            clf_svm.fit(X_train_fold, y_train_fold)\n",
    "            y_pred = clf_svm.predict(X_test_fold)\n",
    "            fold_confusion_matrices.append(confusion_matrix(y_test_fold, y_pred))\n",
    "        \n",
    "        confusion_matrices.append(fold_confusion_matrices)\n",
    "\n",
    "    return metrics, scores_balacc, confusion_matrices, le\n",
    "\n",
    "\n",
    "def eval_num_features_xgb(df: pd.DataFrame, num_feat: int) -> dict:\n",
    "    \"\"\"Without feature scaling here.\"\"\"\n",
    "    \n",
    "    X = df.drop('class', axis=1)\n",
    "    X = X.iloc[:, :num_feat] # select only (num_feat) top features\n",
    "    le = LabelEncoder()\n",
    "    y = le.fit_transform(df['class'])\n",
    "    \n",
    "    X_train, X_test, y_train, y_test = train_test_split(X, y, test_size = 0.20, shuffle=True)\n",
    "    \n",
    "    clf_xgb = XGBClassifier(objective='multi:softmax')\n",
    "    \n",
    "    all_bal_accs, all_accs, all_f1w, all_f1m = list(), list(), list(), list()\n",
    "    cv_eval = RepeatedStratifiedKFold(n_splits=10, n_repeats=10, random_state=17)  # for evaluative CV\n",
    "    metrics = dict()\n",
    "    \n",
    "    scoring_metrics = ['balanced_accuracy', 'accuracy', 'f1_weighted', 'f1_macro']\n",
    "    scores_balacc = list()\n",
    "    for metric in scoring_metrics:\n",
    "        scores_xgb = cross_val_score(clf_xgb, X, y, cv=cv_eval, scoring=metric)\n",
    "        metrics['XGB_' + metric] = scores_xgb.mean()\n",
    "        if metric == 'balanced_accuracy':\n",
    "            scores_balacc = scores_xgb\n",
    "    return metrics, scores_balacc"
   ]
  },
  {
   "cell_type": "code",
   "execution_count": 11,
   "id": "b05ebf8a",
   "metadata": {},
   "outputs": [
    {
     "name": "stdout",
     "output_type": "stream",
     "text": [
      "['MCI' 'MS' 'PD_off' 'SLA']\n",
      "balanced_accuracy equals 0.6714583333333334\n"
     ]
    },
    {
     "data": {
      "image/png": "[encoded data removed]",
      "text/plain": [
       "<Figure size 640x480 with 2 Axes>"
      ]
     },
     "metadata": {},
     "output_type": "display_data"
    }
   ],
   "source": [
    "metric_to_optimize = 'balanced_accuracy'\n",
    "\n",
    "metrics, scores, conf_mats, l_enc = eval_num_features_lda(sel_features_40['df_plv_flat.csv'], \n",
    "                                                          num_feat=34, metric_optim=metric_to_optimize)\n",
    "\n",
    "print(l_enc.classes_)\n",
    "\n",
    "avg_mat = np.mean(np.array(conf_mats)[0], axis=0)\n",
    "\n",
    "print(f'{metric_to_optimize} equals {np.mean(scores)}')\n",
    "\n",
    "sns.heatmap(avg_mat, cmap='Blues', annot=avg_mat, \n",
    "           xticklabels=['MCI', 'MS', 'PD', 'SLA'], yticklabels=['MCI', 'MS', 'PD', 'SLA']);\n",
    "\n",
    "plt.savefig(\"../figures/conf_matrix.png\", dpi=600)"
   ]
  },
  {
   "cell_type": "code",
   "execution_count": 12,
   "id": "a6805ad6",
   "metadata": {},
   "outputs": [
    {
     "data": {
      "text/plain": [
       "array([0.72847682, 0.58293839, 0.43111111, 0.90340909])"
      ]
     },
     "execution_count": 12,
     "metadata": {},
     "output_type": "execute_result"
    }
   ],
   "source": [
    "np.diag(avg_mat) / np.sum(avg_mat, axis=0)"
   ]
  },
  {
   "cell_type": "code",
   "execution_count": null,
   "id": "08c29275",
   "metadata": {},
   "outputs": [],
   "source": []
  }
 ],
 "metadata": {
  "kernelspec": {
   "display_name": "ml",
   "language": "python",
   "name": "ml"
  },
  "language_info": {
   "codemirror_mode": {
    "name": "ipython",
    "version": 3
   },
   "file_extension": ".py",
   "mimetype": "text/x-python",
   "name": "python",
   "nbconvert_exporter": "python",
   "pygments_lexer": "ipython3",
   "version": "3.9.7"
  }
 },
 "nbformat": 4,
 "nbformat_minor": 5
}
