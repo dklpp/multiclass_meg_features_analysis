{
 "cells": [
  {
   "cell_type": "code",
   "execution_count": 1,
   "id": "94123819",
   "metadata": {
    "scrolled": true
   },
   "outputs": [
    {
     "name": "stderr",
     "output_type": "stream",
     "text": [
      "/var/folders/jd/3zpnmlfd2232jh4tlx7lspb40000gn/T/ipykernel_43456/987461041.py:23: DeprecationWarning: \n",
      "The `fooof` package is being deprecated and replaced by the `specparam` (spectral parameterization) package.\n",
      "This version of `fooof` (1.1) is fully functional, but will not be further updated.\n",
      "New projects are recommended to update to using `specparam` (see Changelog for details).\n",
      "  from fooof.plts.spectra import plot_spectrum\n"
     ]
    }
   ],
   "source": [
    "import pandas as pd\n",
    "import matplotlib.pyplot as plt\n",
    "import scipy.io\n",
    "import mne\n",
    "import numpy as np\n",
    "import mat73\n",
    "from mne_connectivity.viz import plot_connectivity_circle\n",
    "\n",
    "import scipy.io\n",
    "import numpy as np\n",
    "import h5py as h5\n",
    "\n",
    "import seaborn as sns\n",
    "\n",
    "import mat73 \n",
    "\n",
    "from scipy.signal import hilbert\n",
    "import pandas as pd\n",
    "from scipy.stats import zscore\n",
    "import pandas as pd\n",
    "import matplotlib.pyplot as plt\n",
    "from scipy import signal\n",
    "from fooof.plts.spectra import plot_spectrum\n",
    "from fooof import FOOOF\n",
    "from fooof.sim.gen import gen_aperiodic\n",
    "\n",
    "import pickle # For reading dictionaries from .pkl\n",
    "\n",
    "from scipy.stats import pearsonr\n",
    "\n",
    "import networkx as nx\n",
    "\n",
    "from scipy.stats import kruskal\n",
    "from statsmodels.stats.multitest import fdrcorrection"
   ]
  },
  {
   "cell_type": "code",
   "execution_count": 2,
   "id": "dcfea93e",
   "metadata": {},
   "outputs": [
    {
     "name": "stdout",
     "output_type": "stream",
     "text": [
      "/Users/dmytro\n"
     ]
    }
   ],
   "source": [
    "cd"
   ]
  },
  {
   "cell_type": "code",
   "execution_count": 3,
   "id": "b97e5646",
   "metadata": {},
   "outputs": [
    {
     "name": "stdout",
     "output_type": "stream",
     "text": [
      "/Users/dmytro/Documents/Projects/PROJECT_main/multiclass_meg_features_analysis\n"
     ]
    }
   ],
   "source": [
    "cd Documents/Projects/PROJECT_main/multiclass_meg_features_analysis/"
   ]
  },
  {
   "cell_type": "code",
   "execution_count": 4,
   "id": "7a545fc1",
   "metadata": {},
   "outputs": [],
   "source": [
    "from libs import neurofeat"
   ]
  },
  {
   "cell_type": "code",
   "execution_count": 4,
   "id": "784fdefc",
   "metadata": {},
   "outputs": [],
   "source": [
    "# List of ROIs from the AAL atlas\n",
    "ROI_AAL_list = [ 'Rectus_L','Olfactory_L','Frontal_Sup_Orb_L','Frontal_Med_Orb_L','Frontal_Mid_Orb_L',\n",
    "                'Frontal_Inf_Orb_L','Frontal_Sup_L','Frontal_Mid_L','Frontal_Inf_Oper_L','Frontal_Inf_Tri_L',\n",
    "                'Frontal_Sup_Medial_L','Supp_Motor_Area_L','Paracentral_Lobule_L','Precentral_L','Rolandic_Oper_L',\n",
    "                'Postcentral_L','Parietal_Sup_L','Parietal_Inf_L','SupraMarginal_L','Angular_L','Precuneus_L',\n",
    "                'Occipital_Sup_L','Occipital_Mid_L','Occipital_Inf_L','Calcarine_L','Cuneus_L','Lingual_L',\n",
    "                'Fusiform_L','Heschl_L','Temporal_Sup_L','Temporal_Mid_L','Temporal_Inf_L','Temporal_Pole_Sup_L',\n",
    "                'Temporal_Pole_Mid_L','ParaHippocampal_L','Cingulum_Ant_L','Cingulum_Mid_L','Cingulum_Post_L',\n",
    "                'Insula_L','Rectus_R','Olfactory_R','Frontal_Sup_Orb_R','Frontal_Med_Orb_R','Frontal_Mid_Orb_R',\n",
    "                'Frontal_Inf_Orb_R','Frontal_Sup_R','Frontal_Mid_R','Frontal_Inf_Oper_R','Frontal_Inf_Tri_R',\n",
    "                'Frontal_Sup_Medial_R','Supp_Motor_Area_R','Paracentral_Lobule_R','Precentral_R','Rolandic_Oper_R',\n",
    "                'Postcentral_R','Parietal_Sup_R','Parietal_Inf_R', 'SupraMarginal_R','Angular_R','Precuneus_R',\n",
    "                'Occipital_Sup_R','Occipital_Mid_R','Occipital_Inf_R','Calcarine_R','Cuneus_R','Lingual_R',\n",
    "                'Fusiform_R','Heschl_R','Temporal_Sup_R','Temporal_Mid_R','Temporal_Inf_R','Temporal_Pole_Sup_R',\n",
    "                'Temporal_Pole_Mid_R','ParaHippocampal_R','Cingulum_Ant_R','Cingulum_Mid_R','Cingulum_Post_R',\n",
    "                'Insula_R','Hippocampus_L','Hippocampus_R','Amygdala_L','Amygdala_R','Caudate_L','Caudate_R',\n",
    "                'Putamen_L','Putamen_R','Pallidum_L','Pallidum_R','Thalamus_L','Thalamus_R','Cerebelum_Crus1_L',\n",
    "                'Cerebelum_Crus1_R','Cerebelum_Crus2_L','Cerebelum_Crus2_R','Cerebelum_3_L','Cerebelum_3_R',\n",
    "                'Cerebelum_4_5_L','Cerebelum_4_5_R','Cerebelum_6_L','Cerebelum_6_R','Cerebelum_7b_L','Cerebelum_7b_R',\n",
    "                'Cerebelum_8_L','Cerebelum_8_R','Cerebelum_9_L','Cerebelum_9_R','Cerebelum_10_L','Cerebelum_10_R',\n",
    "                'Vermis_1_2','Vermis_3','Vermis_4_5','Vermis_6','Vermis_7','Vermis_8','Vermis_9','Vermis_10']\n",
    "ROIs = '%0d'.join ( ROI_AAL_list )\n",
    "\n",
    "# For each ROI, it attributes one lobe\n",
    "Region_AAL = [ 'LF','LF','LF','LF','LF','LF','LF','LF','LF','LF','LF','LF','LF','LF','LF','LP','LP','LP','LP','LP',\n",
    "              'LP','LO','LO','LO','LO','LO','LO','LO','LT','LT','LT','LT','LT','LT','LT','LF','LP','LP','LT','RF',\n",
    "              'RF','RF','RF','RF','RF','RF','RF','RF','RF','RF','RF','RF','RF','RF','RP','RP','RP','RP','RP','RP',\n",
    "              'RO','RO','RO','RO','RO','RO','RO','RT','RT','RT','RT','RT','RT','RT','RF','RP','RP','RT','LT','RT',\n",
    "              'NB','NB','NB','NB','NB','NB','NB','NB','NB','NB','Cer','Cer','Cer','Cer','Cer','Cer','Cer','Cer',\n",
    "              'Cer','Cer','Cer','Cer','Cer','Cer','Cer','Cer','Cer','Cer','Cer','Cer','Cer','Cer','Cer','Cer',\n",
    "              'Cer','Cer' ] # partition provided by PS"
   ]
  },
  {
   "cell_type": "code",
   "execution_count": 5,
   "id": "e61b462c",
   "metadata": {},
   "outputs": [],
   "source": [
    "from nilearn import datasets\n",
    "\n",
    "aal = datasets.fetch_atlas_aal()"
   ]
  },
  {
   "cell_type": "code",
   "execution_count": 6,
   "id": "ff74d483",
   "metadata": {},
   "outputs": [
    {
     "data": {
      "text/plain": [
       "116"
      ]
     },
     "execution_count": 6,
     "metadata": {},
     "output_type": "execute_result"
    }
   ],
   "source": [
    "len(aal[\"labels\"])"
   ]
  },
  {
   "cell_type": "code",
   "execution_count": 7,
   "id": "81cbf952",
   "metadata": {},
   "outputs": [
    {
     "data": {
      "text/plain": [
       "True"
      ]
     },
     "execution_count": 7,
     "metadata": {},
     "output_type": "execute_result"
    }
   ],
   "source": [
    "set(ROI_AAL_list) == set(aal[\"labels\"])"
   ]
  },
  {
   "cell_type": "code",
   "execution_count": 8,
   "id": "266b9eab",
   "metadata": {},
   "outputs": [],
   "source": [
    "indices_aal = [ROI_AAL_list.index(item) for item in aal[\"labels\"]]"
   ]
  },
  {
   "cell_type": "code",
   "execution_count": 9,
   "id": "d0055f35",
   "metadata": {},
   "outputs": [],
   "source": [
    "from nilearn import plotting\n",
    "\n",
    "coordinates = plotting.find_parcellation_cut_coords(labels_img=aal[\"maps\"])"
   ]
  },
  {
   "cell_type": "code",
   "execution_count": 10,
   "id": "8757c5a4",
   "metadata": {},
   "outputs": [
    {
     "data": {
      "text/plain": [
       "116"
      ]
     },
     "execution_count": 10,
     "metadata": {},
     "output_type": "execute_result"
    }
   ],
   "source": [
    "len(coordinates) # coordinates of AAL atlas regions"
   ]
  },
  {
   "cell_type": "code",
   "execution_count": 11,
   "id": "20cbbd0d",
   "metadata": {},
   "outputs": [],
   "source": [
    "# Load average feature importances estimated from XGB\n",
    "avg_imp_aec_plv = pd.read_csv(\"data/average_importance_xgb/avg_imp_aec_plv.csv\", index_col=0)\n",
    "avg_imp_aec_plv_atm = pd.read_csv(\"data/average_importance_xgb/avg_imp_aec_plv_atm.csv\", index_col=0)\n",
    "\n",
    "ver_8apr_overlap = pd.read_csv(\"data/average_importance_xgb/overlap_feats_atm-aec-plv.csv\", index_col=0)"
   ]
  },
  {
   "cell_type": "code",
   "execution_count": 12,
   "id": "c799cd16",
   "metadata": {},
   "outputs": [
    {
     "data": {
      "text/plain": [
       "((14, 1), (10, 1), (9, 1))"
      ]
     },
     "execution_count": 12,
     "metadata": {},
     "output_type": "execute_result"
    }
   ],
   "source": [
    "avg_imp_aec_plv.shape, avg_imp_aec_plv_atm.shape, ver_8apr_overlap.shape"
   ]
  },
  {
   "cell_type": "code",
   "execution_count": 13,
   "id": "8ed4cece",
   "metadata": {},
   "outputs": [
    {
     "data": {
      "text/plain": [
       "Int64Index([1112, 4554, 5175, 2565, 5254, 4552, 2561, 645, 2563, 1182], dtype='int64')"
      ]
     },
     "execution_count": 13,
     "metadata": {},
     "output_type": "execute_result"
    }
   ],
   "source": [
    "avg_imp_aec_plv_atm.index"
   ]
  },
  {
   "cell_type": "code",
   "execution_count": 14,
   "id": "84d5b00a",
   "metadata": {},
   "outputs": [
    {
     "data": {
      "text/plain": [
       "Index(['12-83', '26-64', '7-46', '26-62', '53-55', '26-66', '52-76', '46-55',\n",
       "       '12-13'],\n",
       "      dtype='object')"
      ]
     },
     "execution_count": 14,
     "metadata": {},
     "output_type": "execute_result"
    }
   ],
   "source": [
    "ver_8apr_overlap.index"
   ]
  },
  {
   "cell_type": "code",
   "execution_count": 15,
   "id": "eff3a09f",
   "metadata": {},
   "outputs": [],
   "source": [
    "ver_8apr_overlap.index = [1182, 2563, 645, 2561, 5254, 2565, 5175, 4554, 1112]"
   ]
  },
  {
   "cell_type": "code",
   "execution_count": 16,
   "id": "193b25f6",
   "metadata": {},
   "outputs": [
    {
     "name": "stdout",
     "output_type": "stream",
     "text": [
      "row: 11, id: 82\n",
      "row: 25, id: 63\n",
      "row: 6, id: 45\n",
      "row: 25, id: 61\n",
      "row: 52, id: 54\n",
      "row: 25, id: 65\n",
      "row: 51, id: 75\n",
      "row: 45, id: 54\n",
      "row: 11, id: 12\n"
     ]
    }
   ],
   "source": [
    "# Find row and column indeces for the most important edges (2 regions)\n",
    "\n",
    "matr_zer = np.zeros((116, 116))\n",
    "\n",
    "for index, value in ver_8apr_overlap.iterrows():\n",
    "    row, col = divmod(index, 100)\n",
    "    print(f'row: {row}, id: {col}')\n",
    "    matr_zer[row, col] = value.values[0]"
   ]
  },
  {
   "cell_type": "code",
   "execution_count": 18,
   "id": "9f3a7239",
   "metadata": {},
   "outputs": [
    {
     "data": {
      "text/plain": [
       "(116, 116)"
      ]
     },
     "execution_count": 18,
     "metadata": {},
     "output_type": "execute_result"
    }
   ],
   "source": [
    "matr_zer.shape"
   ]
  },
  {
   "cell_type": "code",
   "execution_count": 18,
   "id": "606b4a73",
   "metadata": {
    "scrolled": true
   },
   "outputs": [
    {
     "data": {
      "text/plain": [
       "(array([ 6, 11, 11, 25, 25, 25, 45, 51, 52]),\n",
       " array([45, 12, 82, 61, 63, 65, 54, 75, 54]))"
      ]
     },
     "execution_count": 18,
     "metadata": {},
     "output_type": "execute_result"
    }
   ],
   "source": [
    "matr_zer.nonzero()"
   ]
  },
  {
   "cell_type": "code",
   "execution_count": 19,
   "id": "be98ee41",
   "metadata": {},
   "outputs": [
    {
     "data": {
      "text/plain": [
       "array([[0., 0., 0., ..., 0., 0., 0.],\n",
       "       [0., 0., 0., ..., 0., 0., 0.],\n",
       "       [0., 0., 0., ..., 0., 0., 0.],\n",
       "       ...,\n",
       "       [0., 0., 0., ..., 0., 0., 0.],\n",
       "       [0., 0., 0., ..., 0., 0., 0.],\n",
       "       [0., 0., 0., ..., 0., 0., 0.]])"
      ]
     },
     "execution_count": 19,
     "metadata": {},
     "output_type": "execute_result"
    }
   ],
   "source": [
    "matr_zer"
   ]
  },
  {
   "cell_type": "code",
   "execution_count": 20,
   "id": "3f0559e5",
   "metadata": {},
   "outputs": [],
   "source": [
    "# Save a sparse matrix to .mat file \n",
    "\n",
    "from scipy.io import savemat\n",
    "\n",
    "savemat(file_name=\"sparse_matrix.mat\", mdict={\"data\": matr_zer})"
   ]
  },
  {
   "cell_type": "code",
   "execution_count": 19,
   "id": "2d7d49be",
   "metadata": {},
   "outputs": [],
   "source": [
    "# regions of AAL from library and our - are in different order so we should reorder them\n",
    "matr_zer = matr_zer[indices_aal, :][:, indices_aal]"
   ]
  },
  {
   "cell_type": "code",
   "execution_count": 20,
   "id": "8f1410f6",
   "metadata": {},
   "outputs": [
    {
     "data": {
      "text/plain": [
       "(array([ 1,  2,  3, 18, 18, 44, 44, 44, 69]),\n",
       " array([57,  3, 57, 68, 70, 43, 47, 51, 33]))"
      ]
     },
     "execution_count": 20,
     "metadata": {},
     "output_type": "execute_result"
    }
   ],
   "source": [
    "matr_zer.nonzero()"
   ]
  },
  {
   "cell_type": "code",
   "execution_count": 21,
   "id": "a87fc910",
   "metadata": {},
   "outputs": [
    {
     "data": {
      "text/plain": [
       "array([ 1,  2,  3, 18, 33, 43, 44, 47, 51, 57, 68, 69, 70])"
      ]
     },
     "execution_count": 21,
     "metadata": {},
     "output_type": "execute_result"
    }
   ],
   "source": [
    "np.unique(np.array(np.nonzero(matr_zer)).flatten())"
   ]
  },
  {
   "cell_type": "code",
   "execution_count": 22,
   "id": "f6d06e5b",
   "metadata": {},
   "outputs": [
    {
     "data": {
      "text/plain": [
       "array([[ 41.10085773,  -9.54983733,  50.80981958],\n",
       "       [-18.79777159,  33.4178273 ,  40.99442897],\n",
       "       [ 21.60483473,  29.9097188 ,  42.51307351],\n",
       "       [ -6.80973451,   3.12942478,  60.53539823],\n",
       "       [  7.66409442, -10.19700409,  38.43758511],\n",
       "       [ 15.70983342, -74.44922085,   8.01934444],\n",
       "       [ -8.39831224, -80.54345992,  26.1721519 ],\n",
       "       [ 16.0773913 , -68.14173913,  -5.21565217],\n",
       "       [ 37.10644391, -81.00143198,  18.09546539],\n",
       "       [ 41.15825268, -26.7726916 ,  51.25398901],\n",
       "       [ -8.32018561, -26.78731632,  69.02088167],\n",
       "       [  7.12679426, -32.94258373,  66.79186603],\n",
       "       [-11.76715177,   9.72349272,   8.07068607]])"
      ]
     },
     "execution_count": 22,
     "metadata": {},
     "output_type": "execute_result"
    }
   ],
   "source": [
    "# find coordinates of specified regions\n",
    "coordinates[[ 1,  2,  3, 18, 33, 43, 44, 47, 51, 57, 68, 69, 70], :]"
   ]
  },
  {
   "cell_type": "code",
   "execution_count": 23,
   "id": "5d208d4e",
   "metadata": {},
   "outputs": [],
   "source": [
    "symmetric_matrix = matr_zer + matr_zer.T # make a symmetric matrix to have undirected links"
   ]
  },
  {
   "cell_type": "code",
   "execution_count": 24,
   "id": "ffa85224",
   "metadata": {},
   "outputs": [
    {
     "data": {
      "text/html": [
       "<div>\n",
       "<style scoped>\n",
       "    .dataframe tbody tr th:only-of-type {\n",
       "        vertical-align: middle;\n",
       "    }\n",
       "\n",
       "    .dataframe tbody tr th {\n",
       "        vertical-align: top;\n",
       "    }\n",
       "\n",
       "    .dataframe thead th {\n",
       "        text-align: right;\n",
       "    }\n",
       "</style>\n",
       "<table border=\"1\" class=\"dataframe\">\n",
       "  <thead>\n",
       "    <tr style=\"text-align: right;\">\n",
       "      <th></th>\n",
       "      <th>0</th>\n",
       "    </tr>\n",
       "  </thead>\n",
       "  <tbody>\n",
       "    <tr>\n",
       "      <th>1182</th>\n",
       "      <td>0.029123</td>\n",
       "    </tr>\n",
       "    <tr>\n",
       "      <th>2563</th>\n",
       "      <td>0.031806</td>\n",
       "    </tr>\n",
       "    <tr>\n",
       "      <th>645</th>\n",
       "      <td>0.032993</td>\n",
       "    </tr>\n",
       "    <tr>\n",
       "      <th>2561</th>\n",
       "      <td>0.037611</td>\n",
       "    </tr>\n",
       "    <tr>\n",
       "      <th>5254</th>\n",
       "      <td>0.046138</td>\n",
       "    </tr>\n",
       "    <tr>\n",
       "      <th>2565</th>\n",
       "      <td>0.059834</td>\n",
       "    </tr>\n",
       "    <tr>\n",
       "      <th>5175</th>\n",
       "      <td>0.070632</td>\n",
       "    </tr>\n",
       "    <tr>\n",
       "      <th>4554</th>\n",
       "      <td>0.094402</td>\n",
       "    </tr>\n",
       "    <tr>\n",
       "      <th>1112</th>\n",
       "      <td>0.111831</td>\n",
       "    </tr>\n",
       "  </tbody>\n",
       "</table>\n",
       "</div>"
      ],
      "text/plain": [
       "             0\n",
       "1182  0.029123\n",
       "2563  0.031806\n",
       "645   0.032993\n",
       "2561  0.037611\n",
       "5254  0.046138\n",
       "2565  0.059834\n",
       "5175  0.070632\n",
       "4554  0.094402\n",
       "1112  0.111831"
      ]
     },
     "execution_count": 24,
     "metadata": {},
     "output_type": "execute_result"
    }
   ],
   "source": [
    "ver_8apr_overlap"
   ]
  },
  {
   "cell_type": "code",
   "execution_count": 25,
   "id": "58a7591e",
   "metadata": {},
   "outputs": [
    {
     "data": {
      "text/plain": [
       "(array([18, 70]), array([70, 18]))"
      ]
     },
     "execution_count": 25,
     "metadata": {},
     "output_type": "execute_result"
    }
   ],
   "source": [
    "np.where((symmetric_matrix > 0.027) & (symmetric_matrix < 0.0292))"
   ]
  },
  {
   "cell_type": "code",
   "execution_count": 26,
   "id": "90bfa03d",
   "metadata": {
    "scrolled": false
   },
   "outputs": [
    {
     "data": {
      "text/plain": [
       "array([[0.        , 0.02912272],\n",
       "       [0.02912272, 0.        ]])"
      ]
     },
     "execution_count": 26,
     "metadata": {},
     "output_type": "execute_result"
    }
   ],
   "source": [
    "symmetric_matrix[[18,70],:][:,[18,70]]"
   ]
  },
  {
   "cell_type": "code",
   "execution_count": 27,
   "id": "4fd4ee86",
   "metadata": {},
   "outputs": [
    {
     "data": {
      "text/plain": [
       "(array([ 1,  2,  3, 18, 18, 44, 44, 44, 69]),\n",
       " array([57,  3, 57, 68, 70, 43, 47, 51, 33]))"
      ]
     },
     "execution_count": 27,
     "metadata": {},
     "output_type": "execute_result"
    }
   ],
   "source": [
    "matr_zer.nonzero()"
   ]
  },
  {
   "cell_type": "code",
   "execution_count": 28,
   "id": "c1dc7770",
   "metadata": {},
   "outputs": [],
   "source": [
    "idx_nonzer = [1,  2,  3, 18, 33, 43, 44, 47, 51, 57, 68, 69, 70]\n",
    " \n",
    "plotting.plot_connectome(\n",
    "    #matr_zer[indices_aal, :][:, indices_aal],\n",
    "    #symmetric_matrix,\n",
    "    symmetric_matrix[idx_nonzer,:][:,idx_nonzer],\n",
    "    coordinates[idx_nonzer, :],\n",
    "    #edge_threshold=\"20%\", # 0.9 or \"15%\"\n",
    "    #title=\"Avg importance of overlapping features\",\n",
    "    title=None,\n",
    "    node_size=15,\n",
    "    black_bg=False,\n",
    "    alpha=0.5,\n",
    "    output_file='figures/avg_importance.png',\n",
    ");"
   ]
  },
  {
   "cell_type": "code",
   "execution_count": 29,
   "id": "6aedb2d9",
   "metadata": {
    "scrolled": false
   },
   "outputs": [
    {
     "data": {
      "image/png": "[encoded data removed]",
      "text/plain": [
       "<IPython.core.display.Image object>"
      ]
     },
     "execution_count": 29,
     "metadata": {},
     "output_type": "execute_result"
    }
   ],
   "source": [
    "from IPython.display import Image\n",
    "Image(\"figures/avg_importance.png\")"
   ]
  },
  {
   "cell_type": "code",
   "execution_count": 61,
   "id": "e1909549",
   "metadata": {},
   "outputs": [
    {
     "data": {
      "image/png": "[encoded data removed]",
      "text/plain": [
       "<Figure size 640x480 with 2 Axes>"
      ]
     },
     "metadata": {},
     "output_type": "display_data"
    }
   ],
   "source": [
    "sns.heatmap(data=symmetric_matrix[idx_nonzer, :][:, idx_nonzer], vmin=0.0, vmax=0.12,\n",
    "           xticklabels=idx_nonzer, yticklabels=idx_nonzer);"
   ]
  },
  {
   "cell_type": "code",
   "execution_count": 1,
   "id": "18300e8b",
   "metadata": {},
   "outputs": [],
   "source": [
    "from scipy.io import loadmat"
   ]
  },
  {
   "cell_type": "code",
   "execution_count": 4,
   "id": "2bd34b3a",
   "metadata": {},
   "outputs": [],
   "source": [
    "arr = loadmat(\"../sparse_matrix.mat\")['data']"
   ]
  },
  {
   "cell_type": "code",
   "execution_count": 5,
   "id": "22cbd85b",
   "metadata": {},
   "outputs": [
    {
     "data": {
      "text/plain": [
       "(array([ 6, 11, 11, 25, 25, 25, 45, 51, 52]),\n",
       " array([45, 12, 82, 61, 63, 65, 54, 75, 54]))"
      ]
     },
     "execution_count": 5,
     "metadata": {},
     "output_type": "execute_result"
    }
   ],
   "source": [
    "arr.nonzero()"
   ]
  },
  {
   "cell_type": "code",
   "execution_count": 6,
   "id": "fe21ba9a",
   "metadata": {},
   "outputs": [
    {
     "data": {
      "text/plain": [
       "0.03299309"
      ]
     },
     "execution_count": 6,
     "metadata": {},
     "output_type": "execute_result"
    }
   ],
   "source": [
    "arr[6, 45]"
   ]
  },
  {
   "cell_type": "code",
   "execution_count": 7,
   "id": "bc3f15a9",
   "metadata": {},
   "outputs": [
    {
     "data": {
      "text/plain": [
       "0.11183101"
      ]
     },
     "execution_count": 7,
     "metadata": {},
     "output_type": "execute_result"
    }
   ],
   "source": [
    "arr[11, 12]"
   ]
  },
  {
   "cell_type": "code",
   "execution_count": 8,
   "id": "7edb0c48",
   "metadata": {},
   "outputs": [
    {
     "data": {
      "text/plain": [
       "False"
      ]
     },
     "execution_count": 8,
     "metadata": {},
     "output_type": "execute_result"
    }
   ],
   "source": [
    "from scipy.linalg import issymmetric\n",
    "\n",
    "issymmetric(arr)"
   ]
  },
  {
   "cell_type": "code",
   "execution_count": 10,
   "id": "4e9b1ecd",
   "metadata": {},
   "outputs": [
    {
     "data": {
      "text/plain": [
       "True"
      ]
     },
     "execution_count": 10,
     "metadata": {},
     "output_type": "execute_result"
    }
   ],
   "source": [
    "issymmetric(arr + arr.T)"
   ]
  },
  {
   "cell_type": "code",
   "execution_count": 11,
   "id": "9c46de3f",
   "metadata": {},
   "outputs": [],
   "source": [
    "symm = arr + arr.T"
   ]
  },
  {
   "cell_type": "code",
   "execution_count": 13,
   "id": "96e98d12",
   "metadata": {},
   "outputs": [],
   "source": [
    "from scipy.io import savemat\n",
    "\n",
    "savemat(file_name=\"symm_sparse_matrix.mat\", mdict={\"data\": symm})"
   ]
  },
  {
   "cell_type": "code",
   "execution_count": null,
   "id": "0d3fb198",
   "metadata": {},
   "outputs": [],
   "source": []
  }
 ],
 "metadata": {
  "kernelspec": {
   "display_name": "ml",
   "language": "python",
   "name": "ml"
  },
  "language_info": {
   "codemirror_mode": {
    "name": "ipython",
    "version": 3
   },
   "file_extension": ".py",
   "mimetype": "text/x-python",
   "name": "python",
   "nbconvert_exporter": "python",
   "pygments_lexer": "ipython3",
   "version": "3.9.7"
  }
 },
 "nbformat": 4,
 "nbformat_minor": 5
}
